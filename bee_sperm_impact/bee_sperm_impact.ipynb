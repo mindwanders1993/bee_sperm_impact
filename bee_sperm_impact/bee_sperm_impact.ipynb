{
 "cells": [
  {
   "cell_type": "markdown",
   "id": "737e230a",
   "metadata": {},
   "source": [
    "# Hypothesis test of impact on insectisides on bees\n",
    "\n",
    "Source Article: [Neonicotinoid insecticides can serve as inadvertent insect contraceptives](https://royalsocietypublishing.org/doi/10.1098/rspb.2016.0506#d3e1436)\n",
    "\n",
    "Data Source: [Neonicotinoid insecticides can serve as inadvertent insect contraceptives](https://datadryad.org/stash/dataset/doi:10.5061/dryad.bs515)\n",
    "\n",
    "## Question: Do neonicotinoid insecticides have unintended consequences?\n",
    "\n",
    "### About the study\n",
    "Study was conducted in United States to collect the information on impact of neonicotinoid insecticides on bees. In study researchers investigated the effects of neonicotinoids on the sperm of pollinating bees.\n",
    "\n",
    "Study how the pesticide treatment affected the count of live sperm per half milliliter of semen."
   ]
  },
  {
   "cell_type": "markdown",
   "id": "4af6e5b9",
   "metadata": {},
   "source": [
    "### Tasks to perform\n",
    "* Extract the data from source and Clean the data\n",
    "* Exploratory Data Analysis of the Data\n",
    "* Bootstrap hypothesis test on bee sperm counts"
   ]
  },
  {
   "cell_type": "code",
   "execution_count": 22,
   "id": "eee813de",
   "metadata": {},
   "outputs": [],
   "source": [
    "# Import dependencies\n",
    "import pandas as pd\n",
    "import numpy as np\n",
    "import matplotlib.pyplot as plt"
   ]
  },
  {
   "cell_type": "markdown",
   "id": "424d438c",
   "metadata": {},
   "source": [
    "#### Extract and Clean Data "
   ]
  },
  {
   "cell_type": "code",
   "execution_count": 23,
   "id": "262aaf5e",
   "metadata": {},
   "outputs": [],
   "source": [
    "# Extract data and save as dataframe\n",
    "\n",
    "bee_sperm = pd.read_excel(r'data/Straub_et_al_Drone_Pesticide_Complete_Data_FINAL_Review.xls',\n",
    "                          sheet_name='Drone Sperm Data')\n",
    "\n",
    "# Get data untreated bees (control) and bees treated with pesticides (treated)\n",
    "# Save data as numpy array\n",
    "\n",
    "control = np.array(bee_sperm[bee_sperm['Treatment'] == 'Control']['Alive Sperm Millions'])\n",
    "treated = np.array(bee_sperm[bee_sperm['Treatment'] == 'Pesticide']['Alive Sperm Millions'])"
   ]
  },
  {
   "cell_type": "markdown",
   "id": "f76f3047",
   "metadata": {},
   "source": [
    "#### EDA - Plot ECDF (Empirical Cumulative Distribution Function)"
   ]
  },
  {
   "cell_type": "code",
   "execution_count": 24,
   "id": "a4ce4451",
   "metadata": {},
   "outputs": [],
   "source": [
    "# Function to compute ECDF\n",
    "def ecdf(data):\n",
    "    \"\"\"Compute ECDF for a one-dimensional array of measurements.\"\"\"\n",
    "    # Number of data points: n\n",
    "    n = len(data)\n",
    "\n",
    "    # x-data for the ECDF: x\n",
    "    x = np.sort(data)\n",
    "\n",
    "    # y-data for the ECDF: y\n",
    "    y = np.arange(1, n + 1) / n\n",
    "\n",
    "    return x, y"
   ]
  },
  {
   "cell_type": "code",
   "execution_count": 25,
   "id": "2d38de4f",
   "metadata": {},
   "outputs": [
    {
     "data": {
      "image/png": "[encoded data removed]",
      "text/plain": [
       "<Figure size 432x288 with 1 Axes>"
      ]
     },
     "metadata": {
      "needs_background": "light"
     },
     "output_type": "display_data"
    }
   ],
   "source": [
    "# EDA, Plot ECDFs of alive sperm count for untreated bees (control) \n",
    "# and bees treated with pesticide (treated)\n",
    "\n",
    "# Compute x,y values for ECDFs\n",
    "x_control, y_control = ecdf(control)\n",
    "x_treated, y_treated = ecdf(treated)\n",
    "\n",
    "# Plot the ECDFs\n",
    "plt.plot(x_control, y_control, marker='.', linestyle='none')\n",
    "plt.plot(x_treated, y_treated, marker='.', linestyle='none')\n",
    "\n",
    "# Set the margins\n",
    "plt.margins(0.02)\n",
    "\n",
    "# Add a legend\n",
    "plt.legend(('control', 'treated'), loc='lower right')\n",
    "\n",
    "# Label axes and show plot\n",
    "plt.xlabel('millions of alive sperm per mL')\n",
    "plt.ylabel('ECDF')\n",
    "plt.show()"
   ]
  },
  {
   "cell_type": "markdown",
   "id": "0ddb15e8",
   "metadata": {},
   "source": [
    "#### Bootstrap hypothesis testing\n",
    "\n",
    "#### Null hypothesis\n",
    "\n",
    "On average, male bees treated with neonicotinoid insecticide have the same number of active sperm per milliliter of semen than do untreated male bees."
   ]
  },
  {
   "cell_type": "code",
   "execution_count": 26,
   "id": "26f32275",
   "metadata": {},
   "outputs": [],
   "source": [
    "# Function to compute bootstrap hypothesis testing\n",
    "\n",
    "# Bootstrap replicate function\n",
    "def bootstrap_replicate_1d(data, func):\n",
    "    \"\"\"Generate bootstrap replicate of 1D data.\"\"\"\n",
    "    bs_sample = np.random.choice(data, len(data))\n",
    "    return func(bs_sample)\n",
    "\n",
    "# Generating many bootstrap replicates\n",
    "def draw_bs_reps(data, func, size=1):\n",
    "    \"\"\"Draw bootstrap replicates.\"\"\"\n",
    "\n",
    "    # Initialize array of replicates: bs_replicates\n",
    "    bs_replicates = np.empty(size)\n",
    "\n",
    "    # Generate replicates\n",
    "    for i in range(size):\n",
    "        bs_replicates[i] = bootstrap_replicate_1d(data, func)\n",
    "\n",
    "    return bs_replicates"
   ]
  },
  {
   "cell_type": "code",
   "execution_count": 27,
   "id": "3d23f779",
   "metadata": {},
   "outputs": [
    {
     "name": "stdout",
     "output_type": "stream",
     "text": [
      "p-value = 1.9e-05\n"
     ]
    }
   ],
   "source": [
    "# Bootstrap hypothesis test on bee sperm counts with size 1 million\n",
    "\n",
    "# Compute the difference in mean sperm count: diff_means\n",
    "diff_means = np.mean(control) - np.mean(treated)\n",
    "\n",
    "# Compute mean of pooled data: mean_count\n",
    "mean_count = np.mean(np.concatenate((control, treated)))\n",
    "\n",
    "# Generate shifted data sets\n",
    "control_shifted = control - np.mean(control) + mean_count\n",
    "treated_shifted = treated - np.mean(treated) + mean_count\n",
    "\n",
    "# Generate bootstrap replicates\n",
    "bs_reps_control = draw_bs_reps(control_shifted,\n",
    "                       np.mean, size=1000000)\n",
    "bs_reps_treated = draw_bs_reps(treated_shifted,\n",
    "                       np.mean, size=1000000)\n",
    "\n",
    "# Get replicates of difference of means: bs_replicates\n",
    "bs_replicates = bs_reps_control - bs_reps_treated\n",
    "\n",
    "# Compute and print p-value: p\n",
    "p = np.sum(bs_replicates >= np.mean(control) - np.mean(treated)) \\\n",
    "            / len(bs_replicates)\n",
    "print('p-value =', p)"
   ]
  },
  {
   "cell_type": "markdown",
   "id": "f50e9379",
   "metadata": {},
   "source": [
    "#### Conclusion: \n",
    "`p-value` is very very small for 1 million replicates, which concludes null hypothesis is false (nullified)."
   ]
  },
  {
   "cell_type": "code",
   "execution_count": null,
   "id": "888cfbf9",
   "metadata": {},
   "outputs": [],
   "source": []
  }
 ],
 "metadata": {
  "kernelspec": {
   "display_name": "Python 3 (ipykernel)",
   "language": "python",
   "name": "python3"
  },
  "language_info": {
   "codemirror_mode": {
    "name": "ipython",
    "version": 3
   },
   "file_extension": ".py",
   "mimetype": "text/x-python",
   "name": "python",
   "nbconvert_exporter": "python",
   "pygments_lexer": "ipython3",
   "version": "3.9.7"
  }
 },
 "nbformat": 4,
 "nbformat_minor": 5
}
